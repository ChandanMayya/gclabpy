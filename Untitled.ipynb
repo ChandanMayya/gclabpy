{
 "cells": [
  {
   "cell_type": "code",
   "execution_count": 2,
   "id": "2c6b381b",
   "metadata": {},
   "outputs": [
    {
     "data": {
      "text/plain": [
       "61"
      ]
     },
     "execution_count": 2,
     "metadata": {},
     "output_type": "execute_result"
    }
   ],
   "source": [
    "5+56"
   ]
  },
  {
   "cell_type": "code",
   "execution_count": 3,
   "id": "c82de12c",
   "metadata": {},
   "outputs": [
    {
     "name": "stdout",
     "output_type": "stream",
     "text": [
      "hello\n"
     ]
    }
   ],
   "source": [
    "print(\"hello\")"
   ]
  },
  {
   "cell_type": "code",
   "execution_count": 4,
   "id": "7d2f4e7a",
   "metadata": {},
   "outputs": [
    {
     "ename": "NameError",
     "evalue": "name 'a' is not defined",
     "output_type": "error",
     "traceback": [
      "\u001b[0;31m---------------------------------------------------------------------------\u001b[0m",
      "\u001b[0;31mNameError\u001b[0m                                 Traceback (most recent call last)",
      "\u001b[0;32m/tmp/ipykernel_5504/1288270073.py\u001b[0m in \u001b[0;36m<module>\u001b[0;34m\u001b[0m\n\u001b[0;32m----> 1\u001b[0;31m \u001b[0ma\u001b[0m\u001b[0;34m\u001b[0m\u001b[0;34m\u001b[0m\u001b[0m\n\u001b[0m",
      "\u001b[0;31mNameError\u001b[0m: name 'a' is not defined"
     ]
    }
   ],
   "source": [
    "a\n"
   ]
  },
  {
   "cell_type": "code",
   "execution_count": 5,
   "id": "c0775f93",
   "metadata": {},
   "outputs": [
    {
     "data": {
      "text/plain": [
       "10"
      ]
     },
     "execution_count": 5,
     "metadata": {},
     "output_type": "execute_result"
    }
   ],
   "source": [
    "a=10\n",
    "a"
   ]
  },
  {
   "cell_type": "code",
   "execution_count": 6,
   "id": "a8812ef5",
   "metadata": {},
   "outputs": [
    {
     "data": {
      "text/plain": [
       "12.5"
      ]
     },
     "execution_count": 6,
     "metadata": {},
     "output_type": "execute_result"
    }
   ],
   "source": [
    "X=10\n",
    "Y=2.5\n",
    "X+Y"
   ]
  },
  {
   "cell_type": "code",
   "execution_count": 7,
   "id": "0068e1a4",
   "metadata": {},
   "outputs": [
    {
     "ename": "TypeError",
     "evalue": "unsupported operand type(s) for +: 'int' and 'str'",
     "output_type": "error",
     "traceback": [
      "\u001b[0;31m---------------------------------------------------------------------------\u001b[0m",
      "\u001b[0;31mTypeError\u001b[0m                                 Traceback (most recent call last)",
      "\u001b[0;32m/tmp/ipykernel_5504/1370025909.py\u001b[0m in \u001b[0;36m<module>\u001b[0;34m\u001b[0m\n\u001b[1;32m      1\u001b[0m \u001b[0mx\u001b[0m\u001b[0;34m=\u001b[0m\u001b[0;36m10\u001b[0m\u001b[0;34m\u001b[0m\u001b[0;34m\u001b[0m\u001b[0m\n\u001b[1;32m      2\u001b[0m \u001b[0my\u001b[0m\u001b[0;34m=\u001b[0m\u001b[0;34m\"HI\"\u001b[0m\u001b[0;34m\u001b[0m\u001b[0;34m\u001b[0m\u001b[0m\n\u001b[0;32m----> 3\u001b[0;31m \u001b[0mx\u001b[0m\u001b[0;34m+\u001b[0m\u001b[0my\u001b[0m\u001b[0;34m\u001b[0m\u001b[0;34m\u001b[0m\u001b[0m\n\u001b[0m",
      "\u001b[0;31mTypeError\u001b[0m: unsupported operand type(s) for +: 'int' and 'str'"
     ]
    }
   ],
   "source": [
    "x=10\n",
    "y=\"HI\"\n",
    "x+y"
   ]
  },
  {
   "cell_type": "code",
   "execution_count": 8,
   "id": "e89bfa69",
   "metadata": {},
   "outputs": [
    {
     "name": "stdout",
     "output_type": "stream",
     "text": [
      "hello 11 hi 25\n"
     ]
    }
   ],
   "source": [
    "x=11\n",
    "y=25\n",
    "print(\"hello\",x,\"hi\",y)"
   ]
  },
  {
   "cell_type": "code",
   "execution_count": 15,
   "id": "fb50afc9",
   "metadata": {},
   "outputs": [
    {
     "name": "stdout",
     "output_type": "stream",
     "text": [
      "multi \n",
      "line\n",
      "string\n",
      "Multi \n",
      "line\n",
      "string\n"
     ]
    }
   ],
   "source": [
    "x=\"\"\"multi \n",
    "line\n",
    "string\"\"\"\n",
    "\n",
    "print(x)\n",
    "\n",
    "print(x.capitalize()) #Capitalize first character of the string"
   ]
  },
  {
   "cell_type": "code",
   "execution_count": 16,
   "id": "9563396f",
   "metadata": {},
   "outputs": [
    {
     "name": "stdout",
     "output_type": "stream",
     "text": [
      "multi \n",
      "line\n",
      "string\n"
     ]
    }
   ],
   "source": [
    "x=\"\"\"multi \n",
    "line\n",
    "STRING\"\"\"\n",
    "\n",
    "print(x.casefold())#Convert string text to lowercase"
   ]
  },
  {
   "cell_type": "code",
   "execution_count": 17,
   "id": "7b4ce116",
   "metadata": {},
   "outputs": [
    {
     "name": "stdout",
     "output_type": "stream",
     "text": [
      "3\n"
     ]
    }
   ],
   "source": [
    "x=\"\"\"multi \n",
    "line\n",
    "string\"\"\"\n",
    "\n",
    "print(x.count(\"i\"))  #count the number of occurances of spcecified character(s) in a string \n",
    "    "
   ]
  },
  {
   "cell_type": "code",
   "execution_count": 21,
   "id": "5c20e396",
   "metadata": {},
   "outputs": [
    {
     "name": "stdout",
     "output_type": "stream",
     "text": [
      "10\n",
      "10\n",
      "are equal\n"
     ]
    }
   ],
   "source": [
    "a=10\n",
    "b=10\n",
    "if a>b:\n",
    "    print(a)\n",
    "    print(\"greater\")\n",
    "elif a<b:\n",
    "    print(b)\n",
    "    print(\"greater\")\n",
    "elif a==b:\n",
    "    print(a)\n",
    "    print(b)\n",
    "    print(\"are equal\")\n",
    "else:\n",
    "    print(\"Vichitra case!\")"
   ]
  },
  {
   "cell_type": "code",
   "execution_count": 24,
   "id": "495e3f85",
   "metadata": {},
   "outputs": [
    {
     "name": "stdout",
     "output_type": "stream",
     "text": [
      "0\n",
      "iteration\n",
      "1\n",
      "iteration\n",
      "2\n",
      "iteration\n",
      "3\n",
      "iteration\n",
      "4\n",
      "iteration\n",
      "5\n",
      "iteration\n",
      "6\n",
      "iteration\n",
      "7\n",
      "iteration\n",
      "8\n",
      "iteration\n",
      "9\n",
      "iteration\n"
     ]
    }
   ],
   "source": [
    "i=0\n",
    "while i<10 :\n",
    "    print(i)\n",
    "    print(\"iteration\")\n",
    "    i=i+1\n",
    "\n",
    "\n",
    "\n",
    "\n",
    "\n",
    "\n",
    "\n",
    "\n",
    "\n",
    "\n"
   ]
  },
  {
   "cell_type": "code",
   "execution_count": 33,
   "id": "38f29299",
   "metadata": {},
   "outputs": [
    {
     "name": "stdout",
     "output_type": "stream",
     "text": [
      "x: -1\n",
      "e: -1\n",
      "E: 0\n",
      "u: 10\n",
      "index of u: 10\n"
     ]
    }
   ],
   "source": [
    "x=\"Enta agta untu???\"\n",
    "print(\"x:\",x.find(\"x\"))\n",
    "print(\"e:\",x.find(\"e\"))\n",
    "print(\"E:\",x.find(\"E\"))\n",
    "print(\"u:\",x.find(\"u\"))\n",
    "#print(\"index of x:\",x.index(\"x\"))\n",
    "print(\"index of u:\",x.index(\"u\"))"
   ]
  },
  {
   "cell_type": "code",
   "execution_count": 36,
   "id": "a83a8086",
   "metadata": {},
   "outputs": [
    {
     "name": "stdout",
     "output_type": "stream",
     "text": [
      "False\n",
      "False\n",
      "True\n"
     ]
    }
   ],
   "source": [
    "x=\"Enta agta untu???\"\n",
    "print(x.isalpha())\n",
    "x=\"Entaagtauntu?\"\n",
    "print(x.isalpha())\n",
    "x=\"Entaagtauntu\"\n",
    "print(x.isalpha())"
   ]
  },
  {
   "cell_type": "code",
   "execution_count": 39,
   "id": "c0de8585",
   "metadata": {},
   "outputs": [
    {
     "name": "stdout",
     "output_type": "stream",
     "text": [
      "True\n",
      "True\n",
      "False\n"
     ]
    }
   ],
   "source": [
    "x=\"alalala\"\n",
    "print(x.isalnum())\n",
    "x=\"alalal1a\"\n",
    "print(x.isalnum())\n",
    "x=\"alala l1a\"\n",
    "print(x.isalnum())"
   ]
  },
  {
   "cell_type": "code",
   "execution_count": 41,
   "id": "5fb85d2d",
   "metadata": {},
   "outputs": [
    {
     "name": "stdout",
     "output_type": "stream",
     "text": [
      "False\n",
      "True\n"
     ]
    }
   ],
   "source": [
    "x=\"ad123\"\n",
    "print(x.isdigit())\n",
    "x=\"123\"\n",
    "print(x.isdigit())"
   ]
  },
  {
   "cell_type": "code",
   "execution_count": 48,
   "id": "badb318c",
   "metadata": {},
   "outputs": [
    {
     "name": "stdout",
     "output_type": "stream",
     "text": [
      "True\n",
      "True\n",
      "False\n"
     ]
    }
   ],
   "source": [
    "x=\"if\"\n",
    "print(x.isidentifier())\n",
    "x=\"class\"\n",
    "print(x.isidentifier())\n",
    "x=\"hi\"\n",
    "print(\"h i\".isidentifier())"
   ]
  },
  {
   "cell_type": "code",
   "execution_count": 64,
   "id": "c904dd28",
   "metadata": {},
   "outputs": [
    {
     "name": "stdout",
     "output_type": "stream",
     "text": [
      "False\n",
      "False\n",
      "True\n",
      "True\n"
     ]
    }
   ],
   "source": [
    "x=\"if\"\n",
    "print(x.isspace())\n",
    "x=\"\"\n",
    "print(x.isspace())\n",
    "x=\" \"\n",
    "print(x.isspace())\n",
    "x=\"     \"\n",
    "print(x.isspace())"
   ]
  },
  {
   "cell_type": "code",
   "execution_count": 66,
   "id": "ba6ec82c",
   "metadata": {},
   "outputs": [
    {
     "name": "stdout",
     "output_type": "stream",
     "text": [
      "False\n",
      "False\n",
      "False\n",
      "False\n",
      "True\n",
      "False\n",
      "True\n"
     ]
    }
   ],
   "source": [
    "x=\" \"\n",
    "print(x.islower())\n",
    "x=\"123\"\n",
    "print(x.islower())\n",
    "x=\"ABC\"\n",
    "print(x.islower())\n",
    "x=\"Abc123\"\n",
    "print(x.islower())\n",
    "x=\"bc\"\n",
    "print(x.islower())\n",
    "x=\"123\"\n",
    "print(x.islower())\n",
    "x=\"bc123\"\n",
    "print(x.islower())"
   ]
  },
  {
   "cell_type": "code",
   "execution_count": 62,
   "id": "b0a539ae",
   "metadata": {},
   "outputs": [
    {
     "name": "stdout",
     "output_type": "stream",
     "text": [
      "False\n",
      "False\n",
      "True\n",
      "False\n",
      "True\n"
     ]
    }
   ],
   "source": [
    "x=\"Abc123\"\n",
    "print(x.isupper())\n",
    "x=\"123\"\n",
    "print(x.isupper())\n",
    "x=\"ABB\"\n",
    "print(x.isupper())\n",
    "x=\" \"\n",
    "print(x.isupper())\n",
    "x=\"ABC DEF\"\n",
    "print(x.isupper())"
   ]
  },
  {
   "cell_type": "code",
   "execution_count": 95,
   "id": "5acfeb68",
   "metadata": {},
   "outputs": [
    {
     "name": "stdout",
     "output_type": "stream",
     "text": [
      "uhfiu\n",
      "v\n",
      "r\n",
      "hg9uh g gu\n",
      "uhfiu\n",
      "uhfiuvohoruhi uhg9uh g gu hoghd ogh ozhz['g0hy 0whgnb']\n",
      "\n",
      "vohoruhi uhg9uh g gu hoghd ogh ozhz['g0hy 0whgnb']\n",
      "vhr\n",
      "y 0whgnb\n",
      "uhfiuvohoruhi uhg9uh g gu hoghd ogh ozhz['g0hy 0whgnb']\n",
      "]'bnghw0 yh0g'[zhzo hgo dhgoh ug g hu9ghu ihurohovuifhu\n"
     ]
    }
   ],
   "source": [
    "x=\"uhfiuvohoruhi uhg9uh g gu hoghd ogh ozhz['g0hy 0whgnb']\"\n",
    "print(x[0:5])\n",
    "print(x[5:6])\n",
    "print(x[9:10])\n",
    "print(x[15:25])\n",
    "print(x[:5])\n",
    "print(x[:])\n",
    "print(x[0:0])\n",
    "print(x[5:])\n",
    "print(x[5:10:2]) #string slicing.... [start,end,jump]\n",
    "print(x[-10:-2]) #reverse indexing\n",
    "print(x[-200:])\n",
    "print(x[::-1])"
   ]
  },
  {
   "cell_type": "code",
   "execution_count": 96,
   "id": "38906654",
   "metadata": {},
   "outputs": [
    {
     "name": "stdout",
     "output_type": "stream",
     "text": [
      "pal\n"
     ]
    }
   ],
   "source": [
    "x=\"Mom\"\n",
    "if x.lower()==x[::-1].lower():\n",
    "    print(\"pal\")\n",
    "else:\n",
    "    print(\"not\")"
   ]
  },
  {
   "cell_type": "code",
   "execution_count": 137,
   "id": "795b78c8",
   "metadata": {},
   "outputs": [
    {
     "name": "stdout",
     "output_type": "stream",
     "text": [
      "['hey', 1, 2.5, ['oi', 'ollarye', [1, 2, 3, 4, 5, 6]], 'Good Evening']\n",
      "6\n",
      "['oi', 'ollarye', [1, 2, 3, 4, 5, 6]]\n",
      "[[1, 2, 3, 4, 5, 6], 'ollarye', 'oi']\n",
      "['hey', 1, 2.5, ['oi', 'ollarye', [1, 2, 3, 4, 5, 6]], 'Good Evening', ['Good Evening', ['oi', 'ollarye', [1, 2, 3, 4, 5, 6]], 2.5, 1, 'hey'], ['Good Evening', ['oi', 'ollarye', [1, 2, 3, 4, 5, 6]], 2.5, 1, 'hey'], 'Good Evening', ['oi', 'ollarye', [1, 2, 3, 4, 5, 6]], 2.5, 1, 'hey']\n",
      "['hey', 1, 'HIII', 2.5, ['oi', 'ollarye', [1, 2, 3, 4, 5, 6]], 'Good Evening', ['Good Evening', ['oi', 'ollarye', [1, 2, 3, 4, 5, 6]], 2.5, 1, 'hey'], ['Good Evening', ['oi', 'ollarye', [1, 2, 3, 4, 5, 6]], 2.5, 1, 'hey'], 'Good Evening', ['oi', 'ollarye', [1, 2, 3, 4, 5, 6]], 2.5, 1, 'hey']\n",
      "[1, 'HIII', 2.5, ['oi', 'ollarye', [1, 2, 3, 4, 5, 6]], 'Good Evening', ['Good Evening', ['oi', 'ollarye', [1, 2, 3, 4, 5, 6]], 2.5, 1, 'hey'], ['Good Evening', ['oi', 'ollarye', [1, 2, 3, 4, 5, 6]], 2.5, 1, 'hey'], 'Good Evening', ['oi', 'ollarye', [1, 2, 3, 4, 5, 6]], 2.5, 1, 'hey']\n"
     ]
    },
    {
     "ename": "ValueError",
     "evalue": "'hey' is not in list",
     "output_type": "error",
     "traceback": [
      "\u001b[0;31m---------------------------------------------------------------------------\u001b[0m",
      "\u001b[0;31mValueError\u001b[0m                                Traceback (most recent call last)",
      "\u001b[0;32m/tmp/ipykernel_5504/42903750.py\u001b[0m in \u001b[0;36m<module>\u001b[0;34m\u001b[0m\n\u001b[1;32m     15\u001b[0m \u001b[0mlist1\u001b[0m\u001b[0;34m.\u001b[0m\u001b[0mpop\u001b[0m\u001b[0;34m(\u001b[0m\u001b[0;34m)\u001b[0m\u001b[0;34m\u001b[0m\u001b[0;34m\u001b[0m\u001b[0m\n\u001b[1;32m     16\u001b[0m \u001b[0mlist1\u001b[0m\u001b[0;34m.\u001b[0m\u001b[0mpop\u001b[0m\u001b[0;34m(\u001b[0m\u001b[0;34m-\u001b[0m\u001b[0;36m5\u001b[0m\u001b[0;34m)\u001b[0m\u001b[0;34m\u001b[0m\u001b[0;34m\u001b[0m\u001b[0m\n\u001b[0;32m---> 17\u001b[0;31m \u001b[0mlist2\u001b[0m\u001b[0;34m.\u001b[0m\u001b[0mindex\u001b[0m\u001b[0;34m(\u001b[0m\u001b[0;34m'hey'\u001b[0m\u001b[0;34m)\u001b[0m\u001b[0;34m\u001b[0m\u001b[0;34m\u001b[0m\u001b[0m\n\u001b[0m\u001b[1;32m     18\u001b[0m \u001b[0mprint\u001b[0m\u001b[0;34m(\u001b[0m\u001b[0;34m\"\\n\"\u001b[0m\u001b[0;34m,\u001b[0m\u001b[0mlist2\u001b[0m\u001b[0;34m)\u001b[0m\u001b[0;34m\u001b[0m\u001b[0;34m\u001b[0m\u001b[0m\n\u001b[1;32m     19\u001b[0m \u001b[0mlist1\u001b[0m\u001b[0;34m.\u001b[0m\u001b[0mclear\u001b[0m\u001b[0;34m(\u001b[0m\u001b[0;34m)\u001b[0m\u001b[0;34m\u001b[0m\u001b[0;34m\u001b[0m\u001b[0m\n",
      "\u001b[0;31mValueError\u001b[0m: 'hey' is not in list"
     ]
    }
   ],
   "source": [
    "list1=['hey',1,2.5,[\"oi\",\"ollarye\",[1,2,3,4,5,6]],\"Good Evening\"]\n",
    "print(list1)\n",
    "print(list1[3][2][5])\n",
    "print(list1[3])\n",
    "print(list1[3][::-1])\n",
    "list2=list1\n",
    "list2.append(list1[::-1])\n",
    "list3=list1\n",
    "list3.extend(list1[::-1])\n",
    "print(list3)\n",
    "list1.insert(2,\"HIII\")\n",
    "print(list1)\n",
    "list2.remove('hey')\n",
    "print(list2)\n",
    "list1.pop()\n",
    "list1.pop(-5)\n",
    "print(\"\\n\",list2)\n",
    "list1.clear()\n",
    "print(list1)\n",
    "print(list2)\n",
    "\n",
    "#index, count, find\n"
   ]
  },
  {
   "cell_type": "code",
   "execution_count": 142,
   "id": "8072dd7a",
   "metadata": {},
   "outputs": [
    {
     "data": {
      "text/plain": [
       "[9, 9, 8, 8, 7, 6, 6, 5, 5, 4, 4, 3, 2, 2, 1]"
      ]
     },
     "execution_count": 142,
     "metadata": {},
     "output_type": "execute_result"
    }
   ],
   "source": [
    "li=[1,2,3,4,5,6,7,8,9,9,6,5,8,4,2,]\n",
    "li.sort()\n",
    "li\n",
    "li.reverse()\n",
    "li"
   ]
  },
  {
   "cell_type": "code",
   "execution_count": 143,
   "id": "652e5aa3",
   "metadata": {},
   "outputs": [
    {
     "data": {
      "text/plain": [
       "['hello', 'hfhf', 'hi']"
      ]
     },
     "execution_count": 143,
     "metadata": {},
     "output_type": "execute_result"
    }
   ],
   "source": [
    "li=[\"hi\",\"hello\",'hfhf']\n",
    "li.sort()\n",
    "li"
   ]
  },
  {
   "cell_type": "code",
   "execution_count": 145,
   "id": "746bb567",
   "metadata": {},
   "outputs": [
    {
     "data": {
      "text/plain": [
       "['Hi', 'hi']"
      ]
     },
     "execution_count": 145,
     "metadata": {},
     "output_type": "execute_result"
    }
   ],
   "source": [
    "li=['hi','Hi']\n",
    "li.sort()\n",
    "li"
   ]
  },
  {
   "cell_type": "code",
   "execution_count": 1,
   "id": "723b5372",
   "metadata": {},
   "outputs": [
    {
     "name": "stdout",
     "output_type": "stream",
     "text": [
      "Enter value for X10\n",
      "10\n"
     ]
    }
   ],
   "source": [
    "x=input(\"Enter value for X\")\n",
    "print(x)\n"
   ]
  },
  {
   "cell_type": "code",
   "execution_count": 1,
   "id": "bf389dd3",
   "metadata": {},
   "outputs": [
    {
     "name": "stdout",
     "output_type": "stream",
     "text": [
      "Enter two values:5b 0\n",
      "x= 5b  y= 0\n"
     ]
    }
   ],
   "source": [
    "x,y=input(\"Enter two values:\").split()\n",
    "print(\"x=\",x,\" y=\",y)"
   ]
  },
  {
   "cell_type": "code",
   "execution_count": 6,
   "id": "7287c47e",
   "metadata": {},
   "outputs": [
    {
     "name": "stdout",
     "output_type": "stream",
     "text": [
      "Ay Shree Ram\n"
     ]
    }
   ],
   "source": [
    "str=\"JAy Shree Ram\"\n",
    "print(str.lstrip('J'))\n"
   ]
  },
  {
   "cell_type": "code",
   "execution_count": 43,
   "id": "e802b11a",
   "metadata": {},
   "outputs": [
    {
     "name": "stdout",
     "output_type": "stream",
     "text": [
      "Hi\n"
     ]
    }
   ],
   "source": [
    "str=\"Hi\"\n",
    "print(str)"
   ]
  },
  {
   "cell_type": "code",
   "execution_count": 7,
   "id": "62b10065",
   "metadata": {},
   "outputs": [
    {
     "name": "stdout",
     "output_type": "stream",
     "text": [
      "i\n"
     ]
    }
   ],
   "source": [
    "print(str[1:])"
   ]
  },
  {
   "cell_type": "code",
   "execution_count": 16,
   "id": "b9dc88ba",
   "metadata": {},
   "outputs": [
    {
     "data": {
      "text/plain": [
       "53"
      ]
     },
     "execution_count": 16,
     "metadata": {},
     "output_type": "execute_result"
    }
   ],
   "source": [
    "ord(\"5\")\n"
   ]
  },
  {
   "cell_type": "code",
   "execution_count": 17,
   "id": "27734583",
   "metadata": {},
   "outputs": [
    {
     "data": {
      "text/plain": [
       "65"
      ]
     },
     "execution_count": 17,
     "metadata": {},
     "output_type": "execute_result"
    }
   ],
   "source": [
    "ord(\"A\")"
   ]
  },
  {
   "cell_type": "code",
   "execution_count": 18,
   "id": "e944aee9",
   "metadata": {},
   "outputs": [
    {
     "data": {
      "text/plain": [
       "97"
      ]
     },
     "execution_count": 18,
     "metadata": {},
     "output_type": "execute_result"
    }
   ],
   "source": [
    "ord(\"a\")"
   ]
  },
  {
   "cell_type": "code",
   "execution_count": 19,
   "id": "032f4ac2",
   "metadata": {},
   "outputs": [
    {
     "data": {
      "text/plain": [
       "122"
      ]
     },
     "execution_count": 19,
     "metadata": {},
     "output_type": "execute_result"
    }
   ],
   "source": [
    "ord(\"z\")"
   ]
  },
  {
   "cell_type": "code",
   "execution_count": 25,
   "id": "1a9d6944",
   "metadata": {},
   "outputs": [
    {
     "name": "stdout",
     "output_type": "stream",
     "text": [
      "hi\n"
     ]
    }
   ],
   "source": [
    "print(str.casefold())"
   ]
  },
  {
   "cell_type": "code",
   "execution_count": 58,
   "id": "27488dfd",
   "metadata": {},
   "outputs": [
    {
     "name": "stdout",
     "output_type": "stream",
     "text": [
      "azjja9sa@#$%fdxbdsdsbv\n"
     ]
    }
   ],
   "source": [
    "str2=\"Azjja9sa@#$%fdxbdSDSbv\"\n",
    "print(str2.casefold())"
   ]
  },
  {
   "cell_type": "code",
   "execution_count": 29,
   "id": "30132f98",
   "metadata": {},
   "outputs": [
    {
     "name": "stdout",
     "output_type": "stream",
     "text": [
      " Azjja9sa@#$%fdxbdSDSbv \n"
     ]
    }
   ],
   "source": [
    "print(str2.center(24,\" \"))"
   ]
  },
  {
   "cell_type": "code",
   "execution_count": 32,
   "id": "d0e77526",
   "metadata": {},
   "outputs": [
    {
     "name": "stdout",
     "output_type": "stream",
     "text": [
      "b'hi'\n"
     ]
    }
   ],
   "source": [
    "print(str.encode())"
   ]
  },
  {
   "cell_type": "code",
   "execution_count": 56,
   "id": "c6be502a",
   "metadata": {},
   "outputs": [
    {
     "name": "stdout",
     "output_type": "stream",
     "text": [
      "bosudike\n"
     ]
    }
   ],
   "source": [
    "print(str2[::5])"
   ]
  },
  {
   "cell_type": "code",
   "execution_count": 60,
   "id": "8ff32d76",
   "metadata": {},
   "outputs": [],
   "source": [
    "str2=\"bdsadoudidsofhduiksadjhgfilksdkbcace\""
   ]
  },
  {
   "cell_type": "code",
   "execution_count": 57,
   "id": "476b9341",
   "metadata": {},
   "outputs": [
    {
     "data": {
      "text/plain": [
       "'BDSADOUDIDSOFHDUIKSADJHGFILKSDKBCACE'"
      ]
     },
     "execution_count": 57,
     "metadata": {},
     "output_type": "execute_result"
    }
   ],
   "source": [
    "str2.upper()"
   ]
  },
  {
   "cell_type": "code",
   "execution_count": 52,
   "id": "a863734e",
   "metadata": {},
   "outputs": [
    {
     "data": {
      "text/plain": [
       "'bdsadoudidsofhduiksadjhgfilksdkbcace'"
      ]
     },
     "execution_count": 52,
     "metadata": {},
     "output_type": "execute_result"
    }
   ],
   "source": [
    "str2.lower()"
   ]
  },
  {
   "cell_type": "code",
   "execution_count": 53,
   "id": "eb437c5e",
   "metadata": {},
   "outputs": [
    {
     "data": {
      "text/plain": [
       "False"
      ]
     },
     "execution_count": 53,
     "metadata": {},
     "output_type": "execute_result"
    }
   ],
   "source": [
    "str2.isupper()"
   ]
  },
  {
   "cell_type": "code",
   "execution_count": 54,
   "id": "ebcfdb68",
   "metadata": {},
   "outputs": [
    {
     "data": {
      "text/plain": [
       "True"
      ]
     },
     "execution_count": 54,
     "metadata": {},
     "output_type": "execute_result"
    }
   ],
   "source": [
    "str2.islower()"
   ]
  },
  {
   "cell_type": "code",
   "execution_count": 61,
   "id": "d09e6262",
   "metadata": {},
   "outputs": [
    {
     "data": {
      "text/plain": [
       "True"
      ]
     },
     "execution_count": 61,
     "metadata": {},
     "output_type": "execute_result"
    }
   ],
   "source": [
    "str2.isalpha()"
   ]
  },
  {
   "cell_type": "code",
   "execution_count": 63,
   "id": "3c54a777",
   "metadata": {},
   "outputs": [
    {
     "data": {
      "text/plain": [
       "1"
      ]
     },
     "execution_count": 63,
     "metadata": {},
     "output_type": "execute_result"
    }
   ],
   "source": [
    "str2.count('e')"
   ]
  },
  {
   "cell_type": "code",
   "execution_count": 66,
   "id": "03c2aab7",
   "metadata": {},
   "outputs": [
    {
     "data": {
      "text/plain": [
       "False"
      ]
     },
     "execution_count": 66,
     "metadata": {},
     "output_type": "execute_result"
    }
   ],
   "source": [
    "str2.endswith('f')"
   ]
  },
  {
   "cell_type": "code",
   "execution_count": 71,
   "id": "e971a0d0",
   "metadata": {},
   "outputs": [
    {
     "name": "stdout",
     "output_type": "stream",
     "text": [
      "My name is John, I'm 36\n",
      "My name is John, I'm 36\n",
      "My name is John, I'm 36\n"
     ]
    }
   ],
   "source": [
    "txt1 = \"My name is {fname}, I'm {age}\".format(fname = \"John\", age = 36)\n",
    "txt2 = \"My name is {0}, I'm {1}\".format(\"John\",36)\n",
    "txt3 = \"My name is {}, I'm {}\".format(\"John\",36)\n",
    "print(txt1)\n",
    "print(txt2)\n",
    "print(txt3)"
   ]
  },
  {
   "cell_type": "code",
   "execution_count": 78,
   "id": "c4fbc0f9",
   "metadata": {},
   "outputs": [],
   "source": [
    "txt4=\"Greater things take greater {idea}\""
   ]
  },
  {
   "cell_type": "code",
   "execution_count": 81,
   "id": "00898df6",
   "metadata": {},
   "outputs": [
    {
     "data": {
      "text/plain": [
       "'Greater things take greater efforts'"
      ]
     },
     "execution_count": 81,
     "metadata": {},
     "output_type": "execute_result"
    }
   ],
   "source": [
    "txt4.format(idea=\"efforts\")"
   ]
  },
  {
   "cell_type": "code",
   "execution_count": 79,
   "id": "7bca4cea",
   "metadata": {},
   "outputs": [
    {
     "name": "stdout",
     "output_type": "stream",
     "text": [
      "Greater things take greater {idea}\n"
     ]
    }
   ],
   "source": [
    "print(txt4)"
   ]
  },
  {
   "cell_type": "code",
   "execution_count": 93,
   "id": "380c9be3",
   "metadata": {},
   "outputs": [
    {
     "data": {
      "text/plain": [
       "'Greater things take greater imagination'"
      ]
     },
     "execution_count": 93,
     "metadata": {},
     "output_type": "execute_result"
    }
   ],
   "source": [
    "txt4.format(idea=\"imagination\")"
   ]
  },
  {
   "cell_type": "code",
   "execution_count": 110,
   "id": "569c0dbb",
   "metadata": {},
   "outputs": [
    {
     "name": "stdout",
     "output_type": "stream",
     "text": [
      "Greater things take greater efforts\n",
      "Greater things take greater management\n",
      "Greater things take greater imagination\n",
      "Greater things take greater error handling\n",
      "Greater things take greater planning\n"
     ]
    }
   ],
   "source": [
    "lst={'imagination','planning','efforts','management','error handling'}\n",
    "for i in lst:\n",
    "    print(txt4.format(idea=i))"
   ]
  },
  {
   "cell_type": "code",
   "execution_count": 107,
   "id": "55b3e7b3",
   "metadata": {},
   "outputs": [
    {
     "data": {
      "text/plain": [
       "'Greater things take greater error handling'"
      ]
     },
     "execution_count": 107,
     "metadata": {},
     "output_type": "execute_result"
    }
   ],
   "source": [
    "dic={'idea':'imagination','idea':'planning','idea':'efforts','idea':'management','idea':'error handling'}\n",
    "txt4.format_map(dic)"
   ]
  },
  {
   "cell_type": "code",
   "execution_count": 109,
   "id": "7af25ee4",
   "metadata": {},
   "outputs": [
    {
     "ename": "TypeError",
     "evalue": "'tuple' object does not support item assignment",
     "output_type": "error",
     "traceback": [
      "\u001b[0;31m---------------------------------------------------------------------------\u001b[0m",
      "\u001b[0;31mTypeError\u001b[0m                                 Traceback (most recent call last)",
      "\u001b[0;32m/tmp/ipykernel_3923/4053646944.py\u001b[0m in \u001b[0;36m<module>\u001b[0;34m\u001b[0m\n\u001b[1;32m      1\u001b[0m \u001b[0mx\u001b[0m\u001b[0;34m=\u001b[0m\u001b[0;34m(\u001b[0m\u001b[0;36m1\u001b[0m\u001b[0;34m,\u001b[0m\u001b[0;36m2\u001b[0m\u001b[0;34m,\u001b[0m\u001b[0;34m\"sifuh\"\u001b[0m\u001b[0;34m)\u001b[0m\u001b[0;34m\u001b[0m\u001b[0;34m\u001b[0m\u001b[0m\n\u001b[0;32m----> 2\u001b[0;31m \u001b[0mx\u001b[0m\u001b[0;34m[\u001b[0m\u001b[0;36m2\u001b[0m\u001b[0;34m]\u001b[0m\u001b[0;34m=\u001b[0m\u001b[0;34m\"jykfgsei\"\u001b[0m\u001b[0;34m\u001b[0m\u001b[0;34m\u001b[0m\u001b[0m\n\u001b[0m",
      "\u001b[0;31mTypeError\u001b[0m: 'tuple' object does not support item assignment"
     ]
    }
   ],
   "source": [
    "x=(1,2,\"sifuh\")\n",
    "x[2]=\"jykfgsei\""
   ]
  },
  {
   "cell_type": "code",
   "execution_count": 112,
   "id": "e41ce4db",
   "metadata": {},
   "outputs": [
    {
     "name": "stdout",
     "output_type": "stream",
     "text": [
      "Greater things take greater 1\n",
      "Greater things take greater 2\n",
      "Greater things take greater sifuh\n"
     ]
    }
   ],
   "source": [
    "for i in x:\n",
    "    print(txt4.format(idea=i))"
   ]
  },
  {
   "cell_type": "code",
   "execution_count": 135,
   "id": "d470e08d",
   "metadata": {},
   "outputs": [
    {
     "name": "stdout",
     "output_type": "stream",
     "text": [
      "Enter max: 6\n",
      "96\n",
      "63\n",
      "32\n",
      "25\n",
      "58\n",
      "87\n",
      "[96, 63, 32, 25, 58, 87]\n",
      "Enter a search element: 96\n",
      "ele found\n"
     ]
    }
   ],
   "source": [
    "lst.clear()\n",
    "n=int(input(\"Enter max: \"))\n",
    "for i in range(0,n):\n",
    "    ele = int(input())\n",
    "    lst.append(ele)\n",
    "print(lst)\n",
    "se=int(input(\"Enter a search element: \"))\n",
    "for i in lst:\n",
    "    if i==se:\n",
    "        print(\"ele found\")\n",
    "        flag=-1\n",
    "        break\n",
    "    else:\n",
    "        flag=0\n",
    "if flag==0:\n",
    "    print(\"ele not found\")"
   ]
  },
  {
   "cell_type": "code",
   "execution_count": 131,
   "id": "8d17ba93",
   "metadata": {},
   "outputs": [
    {
     "ename": "NameError",
     "evalue": "name 'j' is not defined",
     "output_type": "error",
     "traceback": [
      "\u001b[0;31m---------------------------------------------------------------------------\u001b[0m",
      "\u001b[0;31mNameError\u001b[0m                                 Traceback (most recent call last)",
      "\u001b[0;32m/tmp/ipykernel_3923/1489235908.py\u001b[0m in \u001b[0;36m<module>\u001b[0;34m\u001b[0m\n\u001b[0;32m----> 1\u001b[0;31m \u001b[0;32mif\u001b[0m \u001b[0mj\u001b[0m\u001b[0;34m==\u001b[0m\u001b[0;36m0\u001b[0m\u001b[0;34m:\u001b[0m\u001b[0;34m\u001b[0m\u001b[0;34m\u001b[0m\u001b[0m\n\u001b[0m\u001b[1;32m      2\u001b[0m     \u001b[0mprint\u001b[0m\u001b[0;34m(\u001b[0m\u001b[0mj\u001b[0m\u001b[0;34m)\u001b[0m\u001b[0;34m\u001b[0m\u001b[0;34m\u001b[0m\u001b[0m\n",
      "\u001b[0;31mNameError\u001b[0m: name 'j' is not defined"
     ]
    }
   ],
   "source": [
    "if j==0:\n",
    "    print(j)"
   ]
  },
  {
   "cell_type": "code",
   "execution_count": null,
   "id": "49a97957",
   "metadata": {},
   "outputs": [],
   "source": []
  }
 ],
 "metadata": {
  "kernelspec": {
   "display_name": "Python 3 (ipykernel)",
   "language": "python",
   "name": "python3"
  },
  "language_info": {
   "codemirror_mode": {
    "name": "ipython",
    "version": 3
   },
   "file_extension": ".py",
   "mimetype": "text/x-python",
   "name": "python",
   "nbconvert_exporter": "python",
   "pygments_lexer": "ipython3",
   "version": "3.9.7"
  }
 },
 "nbformat": 4,
 "nbformat_minor": 5
}
