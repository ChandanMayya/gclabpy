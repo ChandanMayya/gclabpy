{
 "cells": [
  {
   "cell_type": "code",
   "execution_count": 2,
   "id": "2c6b381b",
   "metadata": {},
   "outputs": [
    {
     "data": {
      "text/plain": [
       "61"
      ]
     },
     "execution_count": 2,
     "metadata": {},
     "output_type": "execute_result"
    }
   ],
   "source": [
    "5+56"
   ]
  },
  {
   "cell_type": "code",
   "execution_count": 3,
   "id": "c82de12c",
   "metadata": {},
   "outputs": [
    {
     "name": "stdout",
     "output_type": "stream",
     "text": [
      "hello\n"
     ]
    }
   ],
   "source": [
    "print(\"hello\")"
   ]
  },
  {
   "cell_type": "code",
   "execution_count": 4,
   "id": "7d2f4e7a",
   "metadata": {},
   "outputs": [
    {
     "ename": "NameError",
     "evalue": "name 'a' is not defined",
     "output_type": "error",
     "traceback": [
      "\u001b[0;31m---------------------------------------------------------------------------\u001b[0m",
      "\u001b[0;31mNameError\u001b[0m                                 Traceback (most recent call last)",
      "\u001b[0;32m/tmp/ipykernel_5504/1288270073.py\u001b[0m in \u001b[0;36m<module>\u001b[0;34m\u001b[0m\n\u001b[0;32m----> 1\u001b[0;31m \u001b[0ma\u001b[0m\u001b[0;34m\u001b[0m\u001b[0;34m\u001b[0m\u001b[0m\n\u001b[0m",
      "\u001b[0;31mNameError\u001b[0m: name 'a' is not defined"
     ]
    }
   ],
   "source": [
    "a\n"
   ]
  },
  {
   "cell_type": "code",
   "execution_count": 5,
   "id": "c0775f93",
   "metadata": {},
   "outputs": [
    {
     "data": {
      "text/plain": [
       "10"
      ]
     },
     "execution_count": 5,
     "metadata": {},
     "output_type": "execute_result"
    }
   ],
   "source": [
    "a=10\n",
    "a"
   ]
  },
  {
   "cell_type": "code",
   "execution_count": 6,
   "id": "a8812ef5",
   "metadata": {},
   "outputs": [
    {
     "data": {
      "text/plain": [
       "12.5"
      ]
     },
     "execution_count": 6,
     "metadata": {},
     "output_type": "execute_result"
    }
   ],
   "source": [
    "X=10\n",
    "Y=2.5\n",
    "X+Y"
   ]
  },
  {
   "cell_type": "code",
   "execution_count": 7,
   "id": "0068e1a4",
   "metadata": {},
   "outputs": [
    {
     "ename": "TypeError",
     "evalue": "unsupported operand type(s) for +: 'int' and 'str'",
     "output_type": "error",
     "traceback": [
      "\u001b[0;31m---------------------------------------------------------------------------\u001b[0m",
      "\u001b[0;31mTypeError\u001b[0m                                 Traceback (most recent call last)",
      "\u001b[0;32m/tmp/ipykernel_5504/1370025909.py\u001b[0m in \u001b[0;36m<module>\u001b[0;34m\u001b[0m\n\u001b[1;32m      1\u001b[0m \u001b[0mx\u001b[0m\u001b[0;34m=\u001b[0m\u001b[0;36m10\u001b[0m\u001b[0;34m\u001b[0m\u001b[0;34m\u001b[0m\u001b[0m\n\u001b[1;32m      2\u001b[0m \u001b[0my\u001b[0m\u001b[0;34m=\u001b[0m\u001b[0;34m\"HI\"\u001b[0m\u001b[0;34m\u001b[0m\u001b[0;34m\u001b[0m\u001b[0m\n\u001b[0;32m----> 3\u001b[0;31m \u001b[0mx\u001b[0m\u001b[0;34m+\u001b[0m\u001b[0my\u001b[0m\u001b[0;34m\u001b[0m\u001b[0;34m\u001b[0m\u001b[0m\n\u001b[0m",
      "\u001b[0;31mTypeError\u001b[0m: unsupported operand type(s) for +: 'int' and 'str'"
     ]
    }
   ],
   "source": [
    "x=10\n",
    "y=\"HI\"\n",
    "x+y"
   ]
  },
  {
   "cell_type": "code",
   "execution_count": 8,
   "id": "e89bfa69",
   "metadata": {},
   "outputs": [
    {
     "name": "stdout",
     "output_type": "stream",
     "text": [
      "hello 11 hi 25\n"
     ]
    }
   ],
   "source": [
    "x=11\n",
    "y=25\n",
    "print(\"hello\",x,\"hi\",y)"
   ]
  },
  {
   "cell_type": "code",
   "execution_count": 15,
   "id": "fb50afc9",
   "metadata": {},
   "outputs": [
    {
     "name": "stdout",
     "output_type": "stream",
     "text": [
      "multi \n",
      "line\n",
      "string\n",
      "Multi \n",
      "line\n",
      "string\n"
     ]
    }
   ],
   "source": [
    "x=\"\"\"multi \n",
    "line\n",
    "string\"\"\"\n",
    "\n",
    "print(x)\n",
    "\n",
    "print(x.capitalize()) #Capitalize first character of the string"
   ]
  },
  {
   "cell_type": "code",
   "execution_count": 16,
   "id": "9563396f",
   "metadata": {},
   "outputs": [
    {
     "name": "stdout",
     "output_type": "stream",
     "text": [
      "multi \n",
      "line\n",
      "string\n"
     ]
    }
   ],
   "source": [
    "x=\"\"\"multi \n",
    "line\n",
    "STRING\"\"\"\n",
    "\n",
    "print(x.casefold())#Convert string text to lowercase"
   ]
  },
  {
   "cell_type": "code",
   "execution_count": 17,
   "id": "7b4ce116",
   "metadata": {},
   "outputs": [
    {
     "name": "stdout",
     "output_type": "stream",
     "text": [
      "3\n"
     ]
    }
   ],
   "source": [
    "x=\"\"\"multi \n",
    "line\n",
    "string\"\"\"\n",
    "\n",
    "print(x.count(\"i\"))  #count the number of occurances of spcecified character(s) in a string \n",
    "    "
   ]
  },
  {
   "cell_type": "code",
   "execution_count": 21,
   "id": "5c20e396",
   "metadata": {},
   "outputs": [
    {
     "name": "stdout",
     "output_type": "stream",
     "text": [
      "10\n",
      "10\n",
      "are equal\n"
     ]
    }
   ],
   "source": [
    "a=10\n",
    "b=10\n",
    "if a>b:\n",
    "    print(a)\n",
    "    print(\"greater\")\n",
    "elif a<b:\n",
    "    print(b)\n",
    "    print(\"greater\")\n",
    "elif a==b:\n",
    "    print(a)\n",
    "    print(b)\n",
    "    print(\"are equal\")\n",
    "else:\n",
    "    print(\"Vichitra case!\")"
   ]
  },
  {
   "cell_type": "code",
   "execution_count": 24,
   "id": "495e3f85",
   "metadata": {},
   "outputs": [
    {
     "name": "stdout",
     "output_type": "stream",
     "text": [
      "0\n",
      "iteration\n",
      "1\n",
      "iteration\n",
      "2\n",
      "iteration\n",
      "3\n",
      "iteration\n",
      "4\n",
      "iteration\n",
      "5\n",
      "iteration\n",
      "6\n",
      "iteration\n",
      "7\n",
      "iteration\n",
      "8\n",
      "iteration\n",
      "9\n",
      "iteration\n"
     ]
    }
   ],
   "source": [
    "i=0\n",
    "while i<10 :\n",
    "    print(i)\n",
    "    print(\"iteration\")\n",
    "    i=i+1\n",
    "\n",
    "\n",
    "\n",
    "\n",
    "\n",
    "\n",
    "\n",
    "\n",
    "\n",
    "\n"
   ]
  },
  {
   "cell_type": "code",
   "execution_count": 33,
   "id": "38f29299",
   "metadata": {},
   "outputs": [
    {
     "name": "stdout",
     "output_type": "stream",
     "text": [
      "x: -1\n",
      "e: -1\n",
      "E: 0\n",
      "u: 10\n",
      "index of u: 10\n"
     ]
    }
   ],
   "source": [
    "x=\"Enta agta untu???\"\n",
    "print(\"x:\",x.find(\"x\"))\n",
    "print(\"e:\",x.find(\"e\"))\n",
    "print(\"E:\",x.find(\"E\"))\n",
    "print(\"u:\",x.find(\"u\"))\n",
    "#print(\"index of x:\",x.index(\"x\"))\n",
    "print(\"index of u:\",x.index(\"u\"))"
   ]
  },
  {
   "cell_type": "code",
   "execution_count": 36,
   "id": "a83a8086",
   "metadata": {},
   "outputs": [
    {
     "name": "stdout",
     "output_type": "stream",
     "text": [
      "False\n",
      "False\n",
      "True\n"
     ]
    }
   ],
   "source": [
    "x=\"Enta agta untu???\"\n",
    "print(x.isalpha())\n",
    "x=\"Entaagtauntu?\"\n",
    "print(x.isalpha())\n",
    "x=\"Entaagtauntu\"\n",
    "print(x.isalpha())"
   ]
  },
  {
   "cell_type": "code",
   "execution_count": 39,
   "id": "c0de8585",
   "metadata": {},
   "outputs": [
    {
     "name": "stdout",
     "output_type": "stream",
     "text": [
      "True\n",
      "True\n",
      "False\n"
     ]
    }
   ],
   "source": [
    "x=\"alalala\"\n",
    "print(x.isalnum())\n",
    "x=\"alalal1a\"\n",
    "print(x.isalnum())\n",
    "x=\"alala l1a\"\n",
    "print(x.isalnum())"
   ]
  },
  {
   "cell_type": "code",
   "execution_count": 41,
   "id": "5fb85d2d",
   "metadata": {},
   "outputs": [
    {
     "name": "stdout",
     "output_type": "stream",
     "text": [
      "False\n",
      "True\n"
     ]
    }
   ],
   "source": [
    "x=\"ad123\"\n",
    "print(x.isdigit())\n",
    "x=\"123\"\n",
    "print(x.isdigit())"
   ]
  },
  {
   "cell_type": "code",
   "execution_count": 48,
   "id": "badb318c",
   "metadata": {},
   "outputs": [
    {
     "name": "stdout",
     "output_type": "stream",
     "text": [
      "True\n",
      "True\n",
      "False\n"
     ]
    }
   ],
   "source": [
    "x=\"if\"\n",
    "print(x.isidentifier())\n",
    "x=\"class\"\n",
    "print(x.isidentifier())\n",
    "x=\"hi\"\n",
    "print(\"h i\".isidentifier())"
   ]
  },
  {
   "cell_type": "code",
   "execution_count": 64,
   "id": "c904dd28",
   "metadata": {},
   "outputs": [
    {
     "name": "stdout",
     "output_type": "stream",
     "text": [
      "False\n",
      "False\n",
      "True\n",
      "True\n"
     ]
    }
   ],
   "source": [
    "x=\"if\"\n",
    "print(x.isspace())\n",
    "x=\"\"\n",
    "print(x.isspace())\n",
    "x=\" \"\n",
    "print(x.isspace())\n",
    "x=\"     \"\n",
    "print(x.isspace())"
   ]
  },
  {
   "cell_type": "code",
   "execution_count": 66,
   "id": "ba6ec82c",
   "metadata": {},
   "outputs": [
    {
     "name": "stdout",
     "output_type": "stream",
     "text": [
      "False\n",
      "False\n",
      "False\n",
      "False\n",
      "True\n",
      "False\n",
      "True\n"
     ]
    }
   ],
   "source": [
    "x=\" \"\n",
    "print(x.islower())\n",
    "x=\"123\"\n",
    "print(x.islower())\n",
    "x=\"ABC\"\n",
    "print(x.islower())\n",
    "x=\"Abc123\"\n",
    "print(x.islower())\n",
    "x=\"bc\"\n",
    "print(x.islower())\n",
    "x=\"123\"\n",
    "print(x.islower())\n",
    "x=\"bc123\"\n",
    "print(x.islower())"
   ]
  },
  {
   "cell_type": "code",
   "execution_count": 62,
   "id": "b0a539ae",
   "metadata": {},
   "outputs": [
    {
     "name": "stdout",
     "output_type": "stream",
     "text": [
      "False\n",
      "False\n",
      "True\n",
      "False\n",
      "True\n"
     ]
    }
   ],
   "source": [
    "x=\"Abc123\"\n",
    "print(x.isupper())\n",
    "x=\"123\"\n",
    "print(x.isupper())\n",
    "x=\"ABB\"\n",
    "print(x.isupper())\n",
    "x=\" \"\n",
    "print(x.isupper())\n",
    "x=\"ABC DEF\"\n",
    "print(x.isupper())"
   ]
  },
  {
   "cell_type": "code",
   "execution_count": 95,
   "id": "5acfeb68",
   "metadata": {},
   "outputs": [
    {
     "name": "stdout",
     "output_type": "stream",
     "text": [
      "uhfiu\n",
      "v\n",
      "r\n",
      "hg9uh g gu\n",
      "uhfiu\n",
      "uhfiuvohoruhi uhg9uh g gu hoghd ogh ozhz['g0hy 0whgnb']\n",
      "\n",
      "vohoruhi uhg9uh g gu hoghd ogh ozhz['g0hy 0whgnb']\n",
      "vhr\n",
      "y 0whgnb\n",
      "uhfiuvohoruhi uhg9uh g gu hoghd ogh ozhz['g0hy 0whgnb']\n",
      "]'bnghw0 yh0g'[zhzo hgo dhgoh ug g hu9ghu ihurohovuifhu\n"
     ]
    }
   ],
   "source": [
    "x=\"uhfiuvohoruhi uhg9uh g gu hoghd ogh ozhz['g0hy 0whgnb']\"\n",
    "print(x[0:5])\n",
    "print(x[5:6])\n",
    "print(x[9:10])\n",
    "print(x[15:25])\n",
    "print(x[:5])\n",
    "print(x[:])\n",
    "print(x[0:0])\n",
    "print(x[5:])\n",
    "print(x[5:10:2]) #string slicing.... [start,end,jump]\n",
    "print(x[-10:-2]) #reverse indexing\n",
    "print(x[-200:])\n",
    "print(x[::-1])"
   ]
  },
  {
   "cell_type": "code",
   "execution_count": 96,
   "id": "38906654",
   "metadata": {},
   "outputs": [
    {
     "name": "stdout",
     "output_type": "stream",
     "text": [
      "pal\n"
     ]
    }
   ],
   "source": [
    "x=\"Mom\"\n",
    "if x.lower()==x[::-1].lower():\n",
    "    print(\"pal\")\n",
    "else:\n",
    "    print(\"not\")"
   ]
  },
  {
   "cell_type": "code",
   "execution_count": 137,
   "id": "795b78c8",
   "metadata": {},
   "outputs": [
    {
     "name": "stdout",
     "output_type": "stream",
     "text": [
      "['hey', 1, 2.5, ['oi', 'ollarye', [1, 2, 3, 4, 5, 6]], 'Good Evening']\n",
      "6\n",
      "['oi', 'ollarye', [1, 2, 3, 4, 5, 6]]\n",
      "[[1, 2, 3, 4, 5, 6], 'ollarye', 'oi']\n",
      "['hey', 1, 2.5, ['oi', 'ollarye', [1, 2, 3, 4, 5, 6]], 'Good Evening', ['Good Evening', ['oi', 'ollarye', [1, 2, 3, 4, 5, 6]], 2.5, 1, 'hey'], ['Good Evening', ['oi', 'ollarye', [1, 2, 3, 4, 5, 6]], 2.5, 1, 'hey'], 'Good Evening', ['oi', 'ollarye', [1, 2, 3, 4, 5, 6]], 2.5, 1, 'hey']\n",
      "['hey', 1, 'HIII', 2.5, ['oi', 'ollarye', [1, 2, 3, 4, 5, 6]], 'Good Evening', ['Good Evening', ['oi', 'ollarye', [1, 2, 3, 4, 5, 6]], 2.5, 1, 'hey'], ['Good Evening', ['oi', 'ollarye', [1, 2, 3, 4, 5, 6]], 2.5, 1, 'hey'], 'Good Evening', ['oi', 'ollarye', [1, 2, 3, 4, 5, 6]], 2.5, 1, 'hey']\n",
      "[1, 'HIII', 2.5, ['oi', 'ollarye', [1, 2, 3, 4, 5, 6]], 'Good Evening', ['Good Evening', ['oi', 'ollarye', [1, 2, 3, 4, 5, 6]], 2.5, 1, 'hey'], ['Good Evening', ['oi', 'ollarye', [1, 2, 3, 4, 5, 6]], 2.5, 1, 'hey'], 'Good Evening', ['oi', 'ollarye', [1, 2, 3, 4, 5, 6]], 2.5, 1, 'hey']\n"
     ]
    },
    {
     "ename": "ValueError",
     "evalue": "'hey' is not in list",
     "output_type": "error",
     "traceback": [
      "\u001b[0;31m---------------------------------------------------------------------------\u001b[0m",
      "\u001b[0;31mValueError\u001b[0m                                Traceback (most recent call last)",
      "\u001b[0;32m/tmp/ipykernel_5504/42903750.py\u001b[0m in \u001b[0;36m<module>\u001b[0;34m\u001b[0m\n\u001b[1;32m     15\u001b[0m \u001b[0mlist1\u001b[0m\u001b[0;34m.\u001b[0m\u001b[0mpop\u001b[0m\u001b[0;34m(\u001b[0m\u001b[0;34m)\u001b[0m\u001b[0;34m\u001b[0m\u001b[0;34m\u001b[0m\u001b[0m\n\u001b[1;32m     16\u001b[0m \u001b[0mlist1\u001b[0m\u001b[0;34m.\u001b[0m\u001b[0mpop\u001b[0m\u001b[0;34m(\u001b[0m\u001b[0;34m-\u001b[0m\u001b[0;36m5\u001b[0m\u001b[0;34m)\u001b[0m\u001b[0;34m\u001b[0m\u001b[0;34m\u001b[0m\u001b[0m\n\u001b[0;32m---> 17\u001b[0;31m \u001b[0mlist2\u001b[0m\u001b[0;34m.\u001b[0m\u001b[0mindex\u001b[0m\u001b[0;34m(\u001b[0m\u001b[0;34m'hey'\u001b[0m\u001b[0;34m)\u001b[0m\u001b[0;34m\u001b[0m\u001b[0;34m\u001b[0m\u001b[0m\n\u001b[0m\u001b[1;32m     18\u001b[0m \u001b[0mprint\u001b[0m\u001b[0;34m(\u001b[0m\u001b[0;34m\"\\n\"\u001b[0m\u001b[0;34m,\u001b[0m\u001b[0mlist2\u001b[0m\u001b[0;34m)\u001b[0m\u001b[0;34m\u001b[0m\u001b[0;34m\u001b[0m\u001b[0m\n\u001b[1;32m     19\u001b[0m \u001b[0mlist1\u001b[0m\u001b[0;34m.\u001b[0m\u001b[0mclear\u001b[0m\u001b[0;34m(\u001b[0m\u001b[0;34m)\u001b[0m\u001b[0;34m\u001b[0m\u001b[0;34m\u001b[0m\u001b[0m\n",
      "\u001b[0;31mValueError\u001b[0m: 'hey' is not in list"
     ]
    }
   ],
   "source": [
    "list1=['hey',1,2.5,[\"oi\",\"ollarye\",[1,2,3,4,5,6]],\"Good Evening\"]\n",
    "print(list1)\n",
    "print(list1[3][2][5])\n",
    "print(list1[3])\n",
    "print(list1[3][::-1])\n",
    "list2=list1\n",
    "list2.append(list1[::-1])\n",
    "list3=list1\n",
    "list3.extend(list1[::-1])\n",
    "print(list3)\n",
    "list1.insert(2,\"HIII\")\n",
    "print(list1)\n",
    "list2.remove('hey')\n",
    "print(list2)\n",
    "list1.pop()\n",
    "list1.pop(-5)\n",
    "print(\"\\n\",list2)\n",
    "list1.clear()\n",
    "print(list1)\n",
    "print(list2)\n",
    "\n",
    "#index, count, find\n"
   ]
  },
  {
   "cell_type": "code",
   "execution_count": 142,
   "id": "8072dd7a",
   "metadata": {},
   "outputs": [
    {
     "data": {
      "text/plain": [
       "[9, 9, 8, 8, 7, 6, 6, 5, 5, 4, 4, 3, 2, 2, 1]"
      ]
     },
     "execution_count": 142,
     "metadata": {},
     "output_type": "execute_result"
    }
   ],
   "source": [
    "li=[1,2,3,4,5,6,7,8,9,9,6,5,8,4,2,]\n",
    "li.sort()\n",
    "li\n",
    "li.reverse()\n",
    "li"
   ]
  },
  {
   "cell_type": "code",
   "execution_count": 143,
   "id": "652e5aa3",
   "metadata": {},
   "outputs": [
    {
     "data": {
      "text/plain": [
       "['hello', 'hfhf', 'hi']"
      ]
     },
     "execution_count": 143,
     "metadata": {},
     "output_type": "execute_result"
    }
   ],
   "source": [
    "li=[\"hi\",\"hello\",'hfhf']\n",
    "li.sort()\n",
    "li"
   ]
  },
  {
   "cell_type": "code",
   "execution_count": 145,
   "id": "746bb567",
   "metadata": {},
   "outputs": [
    {
     "data": {
      "text/plain": [
       "['Hi', 'hi']"
      ]
     },
     "execution_count": 145,
     "metadata": {},
     "output_type": "execute_result"
    }
   ],
   "source": [
    "li=['hi','Hi']\n",
    "li.sort()\n",
    "li"
   ]
  },
  {
   "cell_type": "code",
   "execution_count": null,
   "id": "723b5372",
   "metadata": {},
   "outputs": [],
   "source": []
  }
 ],
 "metadata": {
  "kernelspec": {
   "display_name": "Python 3 (ipykernel)",
   "language": "python",
   "name": "python3"
  },
  "language_info": {
   "codemirror_mode": {
    "name": "ipython",
    "version": 3
   },
   "file_extension": ".py",
   "mimetype": "text/x-python",
   "name": "python",
   "nbconvert_exporter": "python",
   "pygments_lexer": "ipython3",
   "version": "3.9.7"
  }
 },
 "nbformat": 4,
 "nbformat_minor": 5
}
