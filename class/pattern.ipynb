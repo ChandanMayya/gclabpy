{
  "nbformat": 4,
  "nbformat_minor": 0,
  "metadata": {
    "colab": {
      "provenance": [],
      "authorship_tag": "ABX9TyMdmaVo+Il9kCmUG0uj4GlH",
      "include_colab_link": true
    },
    "kernelspec": {
      "name": "python3",
      "display_name": "Python 3"
    },
    "language_info": {
      "name": "python"
    }
  },
  "cells": [
    {
      "cell_type": "markdown",
      "metadata": {
        "id": "view-in-github",
        "colab_type": "text"
      },
      "source": [
        "<a href=\"https://colab.research.google.com/github/ChandanMayya/py/blob/master/class/pattern.ipynb\" target=\"_parent\"><img src=\"https://colab.research.google.com/assets/colab-badge.svg\" alt=\"Open In Colab\"/></a>"
      ]
    },
    {
      "cell_type": "code",
      "execution_count": 4,
      "metadata": {
        "id": "t3FFf6dgG-LB"
      },
      "outputs": [],
      "source": [
        "def print_beam():\n",
        "  print(\"+ . . .\",end=\" \")\n",
        "\n",
        "def print_dunchi():\n",
        "  print(\"|      \",end=\" \")\n"
      ]
    },
    {
      "cell_type": "code",
      "source": [
        "def print_beams(f):\n",
        "  f()\n",
        "  f()\n",
        "  print(\"+\")\n",
        "\n",
        "def print_dunchis(f):\n",
        "  f()\n",
        "  f()\n",
        "  print(\"|\")"
      ],
      "metadata": {
        "id": "uIsDEmfmHqnk"
      },
      "execution_count": 9,
      "outputs": []
    },
    {
      "cell_type": "code",
      "source": [
        "for i in range(3):\n",
        "  print_beams(print_beam)\n",
        "  for j in range(4):\n",
        "    if i==2:\n",
        "      continue\n",
        "    print_dunchis(print_dunchi)"
      ],
      "metadata": {
        "colab": {
          "base_uri": "https://localhost:8080/"
        },
        "id": "4KlEEtaLIB8u",
        "outputId": "23a33133-012e-4091-81fb-ca1802ec4930"
      },
      "execution_count": 12,
      "outputs": [
        {
          "output_type": "stream",
          "name": "stdout",
          "text": [
            "+ . . . + . . . +\n",
            "|       |       |\n",
            "|       |       |\n",
            "|       |       |\n",
            "|       |       |\n",
            "+ . . . + . . . +\n",
            "|       |       |\n",
            "|       |       |\n",
            "|       |       |\n",
            "|       |       |\n",
            "+ . . . + . . . +\n"
          ]
        }
      ]
    }
  ]
}