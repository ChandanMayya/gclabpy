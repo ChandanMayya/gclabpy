{
 "cells": [
  {
   "cell_type": "code",
   "execution_count": 1,
   "id": "825fc051",
   "metadata": {},
   "outputs": [],
   "source": [
    "import pandas as pd\n",
    "import numpy as np\n",
    "import matplotlib.pyplot as plt\n",
    "import seaborn as sns"
   ]
  },
  {
   "cell_type": "code",
   "execution_count": 18,
   "id": "5b93e6bc",
   "metadata": {},
   "outputs": [],
   "source": [
    "dataset=pd.read_csv(\"User_Data.csv\")"
   ]
  },
  {
   "cell_type": "code",
   "execution_count": 19,
   "id": "739f8f93",
   "metadata": {},
   "outputs": [],
   "source": [
    "x=dataset.iloc[:,[2,3]].values\n",
    "y=dataset.iloc[:,4].values\n"
   ]
  },
  {
   "cell_type": "code",
   "execution_count": 20,
   "id": "bffb8842",
   "metadata": {},
   "outputs": [],
   "source": [
    "from sklearn.model_selection import train_test_split \n",
    "xtrain,xtest,ytrain,ytest=train_test_split(x,y,test_size=0.25,random_state=0)\n"
   ]
  },
  {
   "cell_type": "code",
   "execution_count": 21,
   "id": "57fe1326",
   "metadata": {},
   "outputs": [],
   "source": [
    "from sklearn.preprocessing import StandardScaler"
   ]
  },
  {
   "cell_type": "code",
   "execution_count": 22,
   "id": "88cc6b08",
   "metadata": {},
   "outputs": [
    {
     "name": "stdout",
     "output_type": "stream",
     "text": [
      "[[ 8.77922234e-01 -6.46510879e-01]\n",
      " [ 1.93626959e-01  2.17942340e+00]\n",
      " [-1.46823299e+00 -5.59167316e-01]\n",
      " [-1.27272006e+00 -9.96176473e-01]\n",
      " [ 1.07343517e+00  2.15028946e+00]\n",
      " [-6.86181252e-01 -1.52058746e+00]\n",
      " [-1.17496359e+00 -1.08357830e+00]\n",
      " [ 9.75678702e-01  2.15028946e+00]\n",
      " [-1.88597687e-03  1.10913393e-01]\n",
      " [-8.81694188e-01  2.27449168e-01]]\n"
     ]
    }
   ],
   "source": [
    "sc_x = StandardScaler()\n",
    "xtrain=sc_x.fit_transform(xtrain)\n",
    "xtest=sc_x.transform(xtest)\n",
    "print(xtrain[0:10,:])"
   ]
  },
  {
   "cell_type": "code",
   "execution_count": 23,
   "id": "7da21e96",
   "metadata": {},
   "outputs": [],
   "source": [
    "from sklearn.linear_model import LogisticRegression\n",
    "classifier=LogisticRegression(random_state=0)"
   ]
  },
  {
   "cell_type": "code",
   "execution_count": 25,
   "id": "b207037c",
   "metadata": {},
   "outputs": [],
   "source": [
    "classifier.fit(xtrain,ytrain)\n",
    "y_pred=classifier.predict(xtest)"
   ]
  },
  {
   "cell_type": "code",
   "execution_count": 26,
   "id": "77480240",
   "metadata": {},
   "outputs": [
    {
     "name": "stdout",
     "output_type": "stream",
     "text": [
      "Confusion Matrix: \n",
      " [[61  5]\n",
      " [ 9 29]]\n"
     ]
    }
   ],
   "source": [
    "from sklearn.metrics import confusion_matrix\n",
    "cm=confusion_matrix(ytest,y_pred)\n",
    "print(\"Confusion Matrix: \\n\",cm)\n"
   ]
  },
  {
   "cell_type": "code",
   "execution_count": 27,
   "id": "087c6010",
   "metadata": {},
   "outputs": [
    {
     "name": "stdout",
     "output_type": "stream",
     "text": [
      "Accuracy:  0.8653846153846154\n"
     ]
    }
   ],
   "source": [
    "from sklearn.metrics import accuracy_score\n",
    "print(\"Accuracy: \",accuracy_score(ytest,y_pred))"
   ]
  },
  {
   "cell_type": "code",
   "execution_count": null,
   "id": "546e19bf",
   "metadata": {},
   "outputs": [],
   "source": []
  }
 ],
 "metadata": {
  "kernelspec": {
   "display_name": "Python 3 (ipykernel)",
   "language": "python",
   "name": "python3"
  },
  "language_info": {
   "codemirror_mode": {
    "name": "ipython",
    "version": 3
   },
   "file_extension": ".py",
   "mimetype": "text/x-python",
   "name": "python",
   "nbconvert_exporter": "python",
   "pygments_lexer": "ipython3",
   "version": "3.9.7"
  }
 },
 "nbformat": 4,
 "nbformat_minor": 5
}
