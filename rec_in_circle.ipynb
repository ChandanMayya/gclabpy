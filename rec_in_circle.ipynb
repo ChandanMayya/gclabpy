{
  "nbformat": 4,
  "nbformat_minor": 0,
  "metadata": {
    "colab": {
      "provenance": [],
      "authorship_tag": "ABX9TyM6KNFaqYDGM3h3C7zcj45v",
      "include_colab_link": true
    },
    "kernelspec": {
      "name": "python3",
      "display_name": "Python 3"
    },
    "language_info": {
      "name": "python"
    }
  },
  "cells": [
    {
      "cell_type": "markdown",
      "metadata": {
        "id": "view-in-github",
        "colab_type": "text"
      },
      "source": [
        "<a href=\"https://colab.research.google.com/github/ChandanMayya/py/blob/workout/rec_in_circle.ipynb\" target=\"_parent\"><img src=\"https://colab.research.google.com/assets/colab-badge.svg\" alt=\"Open In Colab\"/></a>"
      ]
    },
    {
      "cell_type": "code",
      "source": [
        "class Point:\n",
        "  \"\"\"attributes:x,y\"\"\"\n",
        "\n",
        "class Circle:\n",
        "  \"\"\"attributes:r,cen\"\"\"\n",
        "\n",
        "class Rectangle:\n",
        "  \"\"\"attributes:w,h,cor\"\"\"\n",
        "\n",
        "def is_point_circle(c,p):\n",
        "  d=math.sqrt(((p.x-c.cen.x)**2)+((p.y-c.cen.y)**2))\n",
        "  if d<=c.r:\n",
        "    return True\n",
        "  else:\n",
        "    return False\n",
        "  \n",
        "def is_rect_circ(r,c):\n",
        "  p1=p2=p3=p4=Point()\n",
        "  p1.x=r.cor.x\n",
        "  p1.y=r.cor.y\n",
        "  if is_point_circle(c,p1):\n",
        "    p2.x=p1.x+r.w\n",
        "    p2.y=p1.y\n",
        "    if is_point_circle(c,p2):\n",
        "        p3.x=p2.x\n",
        "        p3.y=p2.y+r.h\n",
        "        if is_point_circle(c,p3):\n",
        "            p4.x=p1.x\n",
        "            p4.y=p3.y\n",
        "            if is_point_circle(c,p3):\n",
        "              return True\n",
        "  else:\n",
        "    return False\n",
        "\n",
        "c=Circle()\n",
        "c.r=75\n",
        "c.cen=Point()\n",
        "c.cen.x=100\n",
        "c.cen.y=150\n",
        "\n",
        "r=Rectangle()\n",
        "r.h=100\n",
        "r.w=100\n",
        "r.cor=Point()\n",
        "r.cor.x=50\n",
        "r.cor.y=100\n",
        "if is_rect_circ(r,c):\n",
        "  print(\"Inside\")\n",
        "else:\n",
        "  print(\"Outside\")\n"
      ],
      "metadata": {
        "colab": {
          "base_uri": "https://localhost:8080/"
        },
        "id": "5NiGQf7MX-GO",
        "outputId": "c89e1c45-1d3f-4905-cd77-b3adfbc62f1d"
      },
      "execution_count": 17,
      "outputs": [
        {
          "output_type": "stream",
          "name": "stdout",
          "text": [
            "Inside\n"
          ]
        }
      ]
    },
    {
      "cell_type": "code",
      "execution_count": null,
      "metadata": {
        "id": "wHt7Cf9FXye2"
      },
      "outputs": [],
      "source": []
    }
  ]
}