{
  "nbformat": 4,
  "nbformat_minor": 0,
  "metadata": {
    "colab": {
      "provenance": [],
      "authorship_tag": "ABX9TyNXqvSJV2Ay75TRWGYnWASY",
      "include_colab_link": true
    },
    "kernelspec": {
      "name": "python3",
      "display_name": "Python 3"
    },
    "language_info": {
      "name": "python"
    }
  },
  "cells": [
    {
      "cell_type": "markdown",
      "metadata": {
        "id": "view-in-github",
        "colab_type": "text"
      },
      "source": [
        "<a href=\"https://colab.research.google.com/github/ChandanMayya/py/blob/workout/most_frequent.ipynb\" target=\"_parent\"><img src=\"https://colab.research.google.com/assets/colab-badge.svg\" alt=\"Open In Colab\"/></a>"
      ]
    },
    {
      "cell_type": "code",
      "execution_count": 7,
      "metadata": {
        "colab": {
          "base_uri": "https://localhost:8080/"
        },
        "id": "xkbaRBq4XfH3",
        "outputId": "444889a1-07a2-4a81-dcb2-b05d2e14393b"
      },
      "outputs": [
        {
          "output_type": "stream",
          "name": "stdout",
          "text": [
            "[('a', 2), ('e', 1), ('m', 1), ('n', 1), ('s', 1), ('t', 1)]\n"
          ]
        }
      ],
      "source": [
        "def most_frequent(s):\n",
        "  d={}\n",
        "  for i in s:\n",
        "    if i in d:\n",
        "      d[i]+=1\n",
        "    else:\n",
        "      d[i]=1\n",
        "  l=list(d.items())\n",
        "  print(sorted(l))\n",
        "\n",
        "most_frequent(\"namaste\")"
      ]
    },
    {
      "cell_type": "code",
      "source": [],
      "metadata": {
        "id": "xX-0EFw0Xr9k"
      },
      "execution_count": null,
      "outputs": []
    }
  ]
}