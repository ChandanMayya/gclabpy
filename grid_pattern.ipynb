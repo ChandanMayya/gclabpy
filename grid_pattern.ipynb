{
  "nbformat": 4,
  "nbformat_minor": 0,
  "metadata": {
    "colab": {
      "provenance": [],
      "authorship_tag": "ABX9TyPSl7LfqwiA8rwHQzMa0V9u",
      "include_colab_link": true
    },
    "kernelspec": {
      "name": "python3",
      "display_name": "Python 3"
    },
    "language_info": {
      "name": "python"
    }
  },
  "cells": [
    {
      "cell_type": "markdown",
      "metadata": {
        "id": "view-in-github",
        "colab_type": "text"
      },
      "source": [
        "<a href=\"https://colab.research.google.com/github/ChandanMayya/py/blob/workout/grid_pattern.ipynb\" target=\"_parent\"><img src=\"https://colab.research.google.com/assets/colab-badge.svg\" alt=\"Open In Colab\"/></a>"
      ]
    },
    {
      "cell_type": "code",
      "execution_count": 6,
      "metadata": {
        "colab": {
          "base_uri": "https://localhost:8080/"
        },
        "id": "66KC0AhGUZsY",
        "outputId": "7848c7bc-1e80-47da-fcf0-f9497e7905ea"
      },
      "outputs": [
        {
          "output_type": "stream",
          "name": "stdout",
          "text": [
            "+ - - - - + - - - - +\n",
            "|         |         |\n",
            "|         |         |\n",
            "|         |         |\n",
            "|         |         |\n",
            "+ - - - - + - - - - +\n",
            "|         |         |\n",
            "|         |         |\n",
            "|         |         |\n",
            "|         |         |\n",
            "+ - - - - + - - - - +\n"
          ]
        }
      ],
      "source": [
        "def do_twice(f):\n",
        "  f()\n",
        "  f()\n",
        "\n",
        "def do_four(f):\n",
        "  do_twice(f)\n",
        "  do_twice(f)\n",
        "\n",
        "def draw_grid():\n",
        "  print(\"+ - - - - \",end=\"\")\n",
        "\n",
        "def draw_pole():\n",
        "  print(\"|         \",end=\"\")\n",
        "\n",
        "def pole():\n",
        "  do_twice(draw_pole)\n",
        "  print(\"|\")\n",
        "\n",
        "def grids():\n",
        "  do_twice(draw_grid)\n",
        "  print(\"+\")\n",
        "\n",
        "def poles():\n",
        "  do_four(pole)\n",
        "\n",
        "def semi_structure():\n",
        "  grids()\n",
        "  poles()\n",
        "\n",
        "def display():\n",
        "  do_twice(semi_structure)\n",
        "  grids()\n",
        "\n",
        "display()"
      ]
    }
  ]
}